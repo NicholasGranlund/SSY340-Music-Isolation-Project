{
 "cells": [
  {
   "cell_type": "code",
   "execution_count": 8,
   "metadata": {},
   "outputs": [],
   "source": [
    "import torch\n",
    "import torchaudio"
   ]
  },
  {
   "cell_type": "code",
   "execution_count": 6,
   "metadata": {},
   "outputs": [
    {
     "name": "stderr",
     "output_type": "stream",
     "text": [
      "/Users/nicholasgranlund/anaconda3/envs/dml/lib/python3.9/site-packages/torchaudio/functional/functional.py:576: UserWarning: At least one mel filterbank has all zero values. The value for `n_mels` (128) may be set too high. Or, the value for `n_freqs` (201) may be set too low.\n",
      "  warnings.warn(\n"
     ]
    },
    {
     "ename": "NameError",
     "evalue": "name 'plt' is not defined",
     "output_type": "error",
     "traceback": [
      "\u001b[0;31m---------------------------------------------------------------------------\u001b[0m",
      "\u001b[0;31mNameError\u001b[0m                                 Traceback (most recent call last)",
      "\u001b[1;32m/Users/nicholasgranlund/Documents/GitHub/SSY340-Music-Isolation-Project/musicisolator.ipynb Cell 2\u001b[0m line \u001b[0;36m1\n\u001b[1;32m      <a href='vscode-notebook-cell:/Users/nicholasgranlund/Documents/GitHub/SSY340-Music-Isolation-Project/musicisolator.ipynb#W1sZmlsZQ%3D%3D?line=8'>9</a>\u001b[0m specgram_db \u001b[39m=\u001b[39m torchaudio\u001b[39m.\u001b[39mtransforms\u001b[39m.\u001b[39mAmplitudeToDB()(specgram)\n\u001b[1;32m     <a href='vscode-notebook-cell:/Users/nicholasgranlund/Documents/GitHub/SSY340-Music-Isolation-Project/musicisolator.ipynb#W1sZmlsZQ%3D%3D?line=10'>11</a>\u001b[0m \u001b[39m# Display the spectrogram\u001b[39;00m\n\u001b[0;32m---> <a href='vscode-notebook-cell:/Users/nicholasgranlund/Documents/GitHub/SSY340-Music-Isolation-Project/musicisolator.ipynb#W1sZmlsZQ%3D%3D?line=11'>12</a>\u001b[0m plt\u001b[39m.\u001b[39mfigure(figsize\u001b[39m=\u001b[39m(\u001b[39m10\u001b[39m, \u001b[39m6\u001b[39m))\n\u001b[1;32m     <a href='vscode-notebook-cell:/Users/nicholasgranlund/Documents/GitHub/SSY340-Music-Isolation-Project/musicisolator.ipynb#W1sZmlsZQ%3D%3D?line=12'>13</a>\u001b[0m plt\u001b[39m.\u001b[39mimshow(specgram_db[\u001b[39m0\u001b[39m]\u001b[39m.\u001b[39mnumpy(), aspect\u001b[39m=\u001b[39m\u001b[39m'\u001b[39m\u001b[39mauto\u001b[39m\u001b[39m'\u001b[39m, origin\u001b[39m=\u001b[39m\u001b[39m'\u001b[39m\u001b[39mlower\u001b[39m\u001b[39m'\u001b[39m)\n\u001b[1;32m     <a href='vscode-notebook-cell:/Users/nicholasgranlund/Documents/GitHub/SSY340-Music-Isolation-Project/musicisolator.ipynb#W1sZmlsZQ%3D%3D?line=13'>14</a>\u001b[0m plt\u001b[39m.\u001b[39mcolorbar(\u001b[39mformat\u001b[39m\u001b[39m=\u001b[39m\u001b[39m'\u001b[39m\u001b[39m%+2.0f\u001b[39;00m\u001b[39m dB\u001b[39m\u001b[39m'\u001b[39m)\n",
      "\u001b[0;31mNameError\u001b[0m: name 'plt' is not defined"
     ]
    }
   ],
   "source": [
    "\n",
    "# Load the audio file\n",
    "audio_file = './music_data/mvsep/multisong_dataset/song_000_mixture.wav'\n",
    "waveform, sample_rate = torchaudio.load(audio_file)\n",
    "\n",
    "# Create a spectrogram\n",
    "specgram = torchaudio.transforms.MelSpectrogram()(waveform)\n",
    "\n",
    "# Convert the spectrogram to decibels\n",
    "specgram_db = torchaudio.transforms.AmplitudeToDB()(specgram)\n",
    "\n",
    "# Display the spectrogram\n",
    "plt.figure(figsize=(10, 6))\n",
    "plt.imshow(specgram_db[0].numpy(), aspect='auto', origin='lower')\n",
    "plt.colorbar(format='%+2.0f dB')\n",
    "plt.title('Spectrogram')\n",
    "plt.xlabel('Time')\n",
    "plt.ylabel('Frequency Bin')\n",
    "plt.show()"
   ]
  }
 ],
 "metadata": {
  "kernelspec": {
   "display_name": "dml",
   "language": "python",
   "name": "python3"
  },
  "language_info": {
   "codemirror_mode": {
    "name": "ipython",
    "version": 3
   },
   "file_extension": ".py",
   "mimetype": "text/x-python",
   "name": "python",
   "nbconvert_exporter": "python",
   "pygments_lexer": "ipython3",
   "version": "3.9.18"
  },
  "orig_nbformat": 4
 },
 "nbformat": 4,
 "nbformat_minor": 2
}
